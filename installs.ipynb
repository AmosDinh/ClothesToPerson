{
 "cells": [
  {
   "cell_type": "code",
   "execution_count": null,
   "metadata": {},
   "outputs": [],
   "source": [
    "# create environment\n",
    "# do it in the terminal, not here: \n",
    "# conda create -n generative_clothes2person python=3.11\n",
    "# conda activate generative_clothes2person\n",
    "\n",
    "\n",
    "# microsoft playwright installs start\n",
    "! pip install pytest-playwright\n",
    "! playwright install\n",
    "# microsoft playwright installs end"
   ]
  }
 ],
 "metadata": {
  "language_info": {
   "name": "python"
  }
 },
 "nbformat": 4,
 "nbformat_minor": 2
}
