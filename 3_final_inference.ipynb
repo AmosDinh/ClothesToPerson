{
 "cells": [
  {
   "cell_type": "markdown",
   "metadata": {},
   "source": [
    "Download a model diffusion_pytorch_model.safetensors and config.json and place them into the folder local_controlnet. Models can be downloaded here: https://huggingface.co/EpsilonGreedy."
   ]
  },
  {
   "cell_type": "code",
   "execution_count": null,
   "metadata": {},
   "outputs": [],
   "source": [
    "from diffusers import StableDiffusionControlNetPipeline, ControlNetModel\n",
    "from diffusers.utils import load_image\n",
    "import torch\n",
    "\n",
    "controlnet = ControlNetModel.from_pretrained(\"local_controlnet\", torch_dtype=torch.float16, use_safetensors=True)\n",
    "pipeline = StableDiffusionControlNetPipeline.from_pretrained(\n",
    "    \"runwayml/stable-diffusion-v1-5\", controlnet=controlnet, torch_dtype=torch.float16\n",
    ").to(\"cuda\")\n",
    "\n",
    "control_image = load_image(\"your_image.png\")\n",
    "prompt = “your prompt“\n",
    "\n",
    "generator = torch.manual_seed(0)\n",
    "image = pipeline(prompt, num_inference_steps=30, generator=generator, image=control_image).images[0]\n",
    "image.save(\"./output.png\")"
   ]
  }
 ],
 "metadata": {
  "language_info": {
   "name": "python"
  }
 },
 "nbformat": 4,
 "nbformat_minor": 2
}
